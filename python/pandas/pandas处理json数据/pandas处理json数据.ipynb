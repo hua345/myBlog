{
 "metadata": {
  "language_info": {
   "codemirror_mode": {
    "name": "ipython",
    "version": 3
   },
   "file_extension": ".py",
   "mimetype": "text/x-python",
   "name": "python",
   "nbconvert_exporter": "python",
   "pygments_lexer": "ipython3",
   "version": "3.9.1"
  },
  "orig_nbformat": 2,
  "kernelspec": {
   "name": "python3",
   "display_name": "Python 3.9.1 64-bit",
   "metadata": {
    "interpreter": {
     "hash": "ac2eaa0ea0ebeafcc7822e65e46aa9d4f966f30b695406963e145ea4a91cd4fc"
    }
   }
  }
 },
 "nbformat": 4,
 "nbformat_minor": 2,
 "cells": [
  {
   "cell_type": "code",
   "execution_count": 3,
   "metadata": {},
   "outputs": [
    {
     "output_type": "stream",
     "name": "stdout",
     "text": [
      "   id bookName\n0   1     刻意学习\n1   2     爱的艺术\n2   3      断舍离\n3   4    非暴力沟通\n4   5       算法\n"
     ]
    }
   ],
   "source": [
    "import pandas\n",
    "## json数据读取\n",
    "jsonFile = \"data.json\"\n",
    "jsonDataFrame = pandas.read_json(jsonFile)\n",
    "print(jsonDataFrame)"
   ]
  },
  {
   "cell_type": "code",
   "execution_count": 4,
   "metadata": {},
   "outputs": [
    {
     "output_type": "stream",
     "name": "stdout",
     "text": [
      "json数据保存成功\n"
     ]
    }
   ],
   "source": [
    "## json数据保存\n",
    "resultJsonFile = \"resultData.json\"\n",
    "jsonDataFrame.to_json(path_or_buf=resultJsonFile,orient=\"records\",force_ascii=False)\n",
    "print(\"json数据保存成功\")\n"
   ]
  },
  {
   "source": [
    "```python\n",
    "def to_dict(self, orient=\"dict\", into=dict):\n",
    "```\n",
    "orient : str {'dict', 'list', 'series', 'split', 'records', 'index'}\n",
    "\n",
    "    - 'dict' (default) : dict like {column -> {index -> value}}\n",
    "    - 'list' : dict like {column -> [values]}\n",
    "    - 'series' : dict like {column -> Series(values)}\n",
    "    - 'split' : dict like\n",
    "      {'index' -> [index], 'columns' -> [columns], 'data' -> [values]}\n",
    "    - 'records' : list like\n",
    "      [{column -> value}, ... , {column -> value}]\n",
    "    - 'index' : dict like {index -> {column -> value}}"
   ],
   "cell_type": "markdown",
   "metadata": {}
  },
  {
   "cell_type": "code",
   "execution_count": 5,
   "metadata": {},
   "outputs": [
    {
     "output_type": "stream",
     "name": "stdout",
     "text": [
      "{'id': {0: 1, 1: 2, 2: 3, 3: 4, 4: 5}, 'bookName': {0: '刻意学习', 1: '爱的艺术', 2: '断舍离', 3: '非暴力沟通', 4: '算法'}}\n"
     ]
    }
   ],
   "source": [
    "# DataFrame转为dict\n",
    "dictData = jsonDataFrame.to_dict(orient=\"dict\")\n",
    "print(dictData)"
   ]
  },
  {
   "cell_type": "code",
   "execution_count": 6,
   "metadata": {},
   "outputs": [
    {
     "output_type": "stream",
     "name": "stdout",
     "text": [
      "{'id': [1, 2, 3, 4, 5], 'bookName': ['刻意学习', '爱的艺术', '断舍离', '非暴力沟通', '算法']}\n"
     ]
    }
   ],
   "source": [
    "# DataFrame转为dict\n",
    "dictData = jsonDataFrame.to_dict(orient=\"list\")\n",
    "print(dictData)"
   ]
  },
  {
   "cell_type": "code",
   "execution_count": 7,
   "metadata": {},
   "outputs": [
    {
     "output_type": "stream",
     "name": "stdout",
     "text": [
      "{'id': 0    1\n1    2\n2    3\n3    4\n4    5\nName: id, dtype: int64, 'bookName': 0     刻意学习\n1     爱的艺术\n2      断舍离\n3    非暴力沟通\n4       算法\nName: bookName, dtype: object}\n"
     ]
    }
   ],
   "source": [
    "# DataFrame转为dict\n",
    "dictData = jsonDataFrame.to_dict(orient=\"series\")\n",
    "print(dictData)"
   ]
  },
  {
   "cell_type": "code",
   "execution_count": 8,
   "metadata": {},
   "outputs": [
    {
     "output_type": "stream",
     "name": "stdout",
     "text": [
      "{'index': [0, 1, 2, 3, 4], 'columns': ['id', 'bookName'], 'data': [[1, '刻意学习'], [2, '爱的艺术'], [3, '断舍离'], [4, '非暴力沟通'], [5, '算法']]}\n"
     ]
    }
   ],
   "source": [
    "# DataFrame转为dict\n",
    "dictData = jsonDataFrame.to_dict(orient=\"split\")\n",
    "print(dictData)"
   ]
  },
  {
   "cell_type": "code",
   "execution_count": 7,
   "metadata": {},
   "outputs": [
    {
     "output_type": "stream",
     "name": "stdout",
     "text": [
      "[[1,\"刻意学习\"],[2,\"爱的艺术\"],[3,\"断舍离\"],[4,\"非暴力沟通\"],[5,\"算法\"]]\n"
     ]
    }
   ],
   "source": [
    "jsonData = jsonDataFrame.to_json(orient=\"values\",force_ascii=False)\n",
    "print(jsonData)"
   ]
  },
  {
   "cell_type": "code",
   "execution_count": null,
   "metadata": {},
   "outputs": [],
   "source": []
  }
 ]
}