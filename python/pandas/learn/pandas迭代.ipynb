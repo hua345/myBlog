{
 "metadata": {
  "language_info": {
   "codemirror_mode": {
    "name": "ipython",
    "version": 3
   },
   "file_extension": ".py",
   "mimetype": "text/x-python",
   "name": "python",
   "nbconvert_exporter": "python",
   "pygments_lexer": "ipython3",
   "version": "3.9.1"
  },
  "orig_nbformat": 2,
  "kernelspec": {
   "name": "python3",
   "display_name": "Python 3.9.1 64-bit",
   "metadata": {
    "interpreter": {
     "hash": "ac2eaa0ea0ebeafcc7822e65e46aa9d4f966f30b695406963e145ea4a91cd4fc"
    }
   }
  }
 },
 "nbformat": 4,
 "nbformat_minor": 2,
 "cells": [
  {
   "source": [
    "## 参考\n",
    "\n",
    "- [https://www.pypandas.cn/](https://www.pypandas.cn/)\n",
    "- https://www.pypandas.cn/docs/getting_started/basics.html\n",
    "\n",
    "## DataFrame遍历\n",
    "\n",
    "- `for col in df`,用于`DataFrame`中Key的遍历\n",
    "- `df.iterrows()`,把`DataFrame`里的行当作`（index， Series）`对进行迭代。该操作把行转为 `Series`，同时改变数据类型，并对性能有影响。\n",
    "- `df.itertuples()`,把`DataFrame`的行当作值的命名元组进行迭代。该操作比`iterrows()`(opens new window)快的多，建议尽量用这种方法`迭代DataFrame`的值。\n",
    "\n",
    "`永远不要修改迭代的内容`，这种方式不能确保所有操作都能正常运作。基于数据类型，迭代器返回的是复制（copy）的结果\n"
   ],
   "cell_type": "markdown",
   "metadata": {}
  },
  {
   "cell_type": "code",
   "execution_count": 13,
   "metadata": {},
   "outputs": [],
   "source": [
    "import pandas"
   ]
  },
  {
   "cell_type": "code",
   "execution_count": 14,
   "metadata": {},
   "outputs": [],
   "source": [
    "## json数据读取\n",
    "jsonFile = \"data.json\"\n",
    "df = pandas.read_json(jsonFile)"
   ]
  },
  {
   "cell_type": "code",
   "execution_count": 15,
   "metadata": {},
   "outputs": [
    {
     "output_type": "stream",
     "name": "stdout",
     "text": [
      "book\nprice\n"
     ]
    }
   ],
   "source": [
    "for col in df:\n",
    "    print(col)"
   ]
  },
  {
   "cell_type": "code",
   "execution_count": 16,
   "metadata": {},
   "outputs": [
    {
     "output_type": "stream",
     "name": "stdout",
     "text": [
      "哈佛幸福公开课\n断舍离\n刻意练习\n数学之美\n算法\n高性能mysql\n"
     ]
    }
   ],
   "source": [
    "for row_index, row in df.iterrows():\n",
    "   print(row.book)"
   ]
  },
  {
   "cell_type": "code",
   "execution_count": 17,
   "metadata": {},
   "outputs": [
    {
     "output_type": "stream",
     "name": "stdout",
     "text": [
      "哈佛幸福公开课\n断舍离\n刻意练习\n数学之美\n算法\n高性能mysql\n"
     ]
    }
   ],
   "source": [
    "for row in df.itertuples():\n",
    "    print(row.book)"
   ]
  },
  {
   "cell_type": "code",
   "execution_count": null,
   "metadata": {},
   "outputs": [],
   "source": []
  }
 ]
}