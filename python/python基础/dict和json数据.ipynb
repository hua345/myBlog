{
 "metadata": {
  "language_info": {
   "codemirror_mode": {
    "name": "ipython",
    "version": 3
   },
   "file_extension": ".py",
   "mimetype": "text/x-python",
   "name": "python",
   "nbconvert_exporter": "python",
   "pygments_lexer": "ipython3",
   "version": "3.9.1"
  },
  "orig_nbformat": 2,
  "kernelspec": {
   "name": "python3",
   "display_name": "Python 3.9.1 64-bit",
   "metadata": {
    "interpreter": {
     "hash": "ac2eaa0ea0ebeafcc7822e65e46aa9d4f966f30b695406963e145ea4a91cd4fc"
    }
   }
  }
 },
 "nbformat": 4,
 "nbformat_minor": 2,
 "cells": [
  {
   "source": [
    "- `python` 的`dict`是一种数据结构，`json`是一种数据传输格式。`json`就是一个根据某种约定格式编写的纯字符串，不具备任何数据结构的特征。\n",
    "- `python`的`dict`的key可以是任意可hash对象，`json`只能是字符串。形式上有些相像，但json是纯文本的，无法直接操作。\n",
    "- `python`的`dict`的Key是唯一的，而`json`的Key可以重复。\n",
    "\n",
    "## dict和json之间转换\n",
    "- `json.loads()`,将`json`数据转化成`dict`数据\n",
    "- `json.dumps()`,将`dict`数据转化成`json`数据\n",
    "- `json.load()`,读取`json文件`数据，转成`dict`数据\n",
    "- `json.dump()`,将`dict`数据转化成json数据后写入`json文件`"
   ],
   "cell_type": "markdown",
   "metadata": {}
  },
  {
   "cell_type": "code",
   "execution_count": 9,
   "metadata": {},
   "outputs": [],
   "source": [
    "import json"
   ]
  },
  {
   "cell_type": "code",
   "execution_count": 10,
   "metadata": {},
   "outputs": [
    {
     "output_type": "stream",
     "name": "stdout",
     "text": [
      "python基础\n"
     ]
    }
   ],
   "source": [
    "dictData = {\"bookName\":\"python基础\",\"price\":23}\n",
    "print(dictData[\"bookName\"])\n",
    "\n",
    "# json解析并按key排序\n",
    "jsonStr = json.dumps(dictData, sort_keys=True)\n",
    "# 将 JSON 对象转换为 Python 字典\n",
    "parsedDictData = json.loads(jsonStr)"
   ]
  },
  {
   "cell_type": "code",
   "execution_count": 11,
   "metadata": {},
   "outputs": [
    {
     "output_type": "stream",
     "name": "stdout",
     "text": [
      "bookName\nprice\nbookName\nprice\n"
     ]
    }
   ],
   "source": [
    "# 字典在for迭代中默认只输出key\n",
    "for k in parsedDictData:\n",
    "    print(k)\n",
    "\n",
    "# 迭代输出key\n",
    "for k in parsedDictData.keys():\n",
    "    print(k)"
   ]
  },
  {
   "cell_type": "code",
   "execution_count": 12,
   "metadata": {},
   "outputs": [
    {
     "output_type": "stream",
     "name": "stdout",
     "text": [
      "python基础\n23\n"
     ]
    }
   ],
   "source": [
    "# 迭代输出value\n",
    "for v in parsedDictData.values():\n",
    "    print(v)"
   ]
  },
  {
   "cell_type": "code",
   "execution_count": 13,
   "metadata": {},
   "outputs": [
    {
     "output_type": "stream",
     "name": "stdout",
     "text": [
      "bookName python基础\nprice 23\n"
     ]
    }
   ],
   "source": [
    "# 迭代输出键值对\n",
    "for k,v in parsedDictData.items():\n",
    "    print(k,v)"
   ]
  },
  {
   "cell_type": "code",
   "execution_count": 14,
   "metadata": {},
   "outputs": [
    {
     "output_type": "stream",
     "name": "stdout",
     "text": [
      "python基础\n"
     ]
    }
   ],
   "source": [
    "print(parsedDictData['bookName'])"
   ]
  },
  {
   "cell_type": "code",
   "execution_count": 15,
   "metadata": {},
   "outputs": [
    {
     "output_type": "execute_result",
     "data": {
      "text/plain": [
       "True"
      ]
     },
     "metadata": {},
     "execution_count": 15
    }
   ],
   "source": [
    "# 判断是否为字典格式\n",
    "isinstance(parsedDictData,dict)"
   ]
  },
  {
   "cell_type": "code",
   "execution_count": null,
   "metadata": {},
   "outputs": [],
   "source": []
  }
 ]
}