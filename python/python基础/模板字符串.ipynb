{
 "metadata": {
  "language_info": {
   "codemirror_mode": {
    "name": "ipython",
    "version": 3
   },
   "file_extension": ".py",
   "mimetype": "text/x-python",
   "name": "python",
   "nbconvert_exporter": "python",
   "pygments_lexer": "ipython3",
   "version": "3.9.1"
  },
  "orig_nbformat": 2,
  "kernelspec": {
   "name": "python3",
   "display_name": "Python 3.9.1 64-bit",
   "metadata": {
    "interpreter": {
     "hash": "ac2eaa0ea0ebeafcc7822e65e46aa9d4f966f30b695406963e145ea4a91cd4fc"
    }
   }
  }
 },
 "nbformat": 4,
 "nbformat_minor": 2,
 "cells": [
  {
   "cell_type": "code",
   "execution_count": 1,
   "metadata": {},
   "outputs": [
    {
     "output_type": "stream",
     "name": "stdout",
     "text": [
      "hello world\nhello fangfang\n"
     ]
    }
   ],
   "source": [
    "\n",
    "from string import Template\n",
    "\n",
    "hellpTemplate = Template('hello $name')\n",
    "# substitute解析的Key找不到对应的参数时会引发TypeError\n",
    "# safe_substitute类似于substitue，找不到键时，它不会引发KeyError，并且在结果字符串中返回占位符\n",
    "resultStr = hellpTemplate.substitute(name='world')\n",
    "print(resultStr)\n",
    " \n",
    "# dictionary as substitute argument\n",
    "data = {\"name\": \"fangfang\"}\n",
    "resultStr = hellpTemplate.substitute(**data)\n",
    "print(resultStr)"
   ]
  },
  {
   "cell_type": "code",
   "execution_count": 2,
   "metadata": {},
   "outputs": [
    {
     "output_type": "stream",
     "name": "stdout",
     "text": [
      "hello world $noExist\n"
     ]
    }
   ],
   "source": [
    "hellpTemplate = Template('hello $name $noExist')\n",
    "# substitute解析的Key找不到对应的参数时会引发TypeError\n",
    "# safe_substitute类似于substitue，找不到键时，它不会引发KeyError，并且在结果字符串中返回占位符\n",
    "resultStr = hellpTemplate.safe_substitute(name='world')\n",
    "print(resultStr)"
   ]
  },
  {
   "cell_type": "code",
   "execution_count": 3,
   "metadata": {},
   "outputs": [
    {
     "output_type": "stream",
     "name": "stdout",
     "text": [
      "$ is called Dollar\n"
     ]
    }
   ],
   "source": [
    "# 转义$符号\n",
    "# 我们可以使用$$来转义$符号并将其视为普通字符串的一部分\n",
    "t = Template('$$ is called $name')\n",
    "s = t.substitute(name='Dollar')\n",
    "print(s)"
   ]
  },
  {
   "cell_type": "code",
   "execution_count": 4,
   "metadata": {},
   "outputs": [
    {
     "output_type": "stream",
     "name": "stdout",
     "text": [
      "hello $name $noExist\n"
     ]
    }
   ],
   "source": [
    "# 打印模板字符串\n",
    "print(hellpTemplate.template)"
   ]
  },
  {
   "cell_type": "code",
   "execution_count": null,
   "metadata": {},
   "outputs": [],
   "source": []
  }
 ]
}