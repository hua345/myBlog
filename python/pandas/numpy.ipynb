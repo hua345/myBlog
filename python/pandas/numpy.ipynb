{
 "cells": [
  {
   "cell_type": "code",
   "execution_count": 1,
   "metadata": {},
   "outputs": [
    {
     "output_type": "stream",
     "name": "stdout",
     "text": [
      "hello world\n"
     ]
    }
   ],
   "source": [
    "print(\"hello world\")\n",
    "# https://zhuanlan.zhihu.com/p/32242331"
   ]
  },
  {
   "cell_type": "code",
   "execution_count": 2,
   "metadata": {},
   "outputs": [
    {
     "output_type": "stream",
     "name": "stdout",
     "text": [
      "[[1 2 3]\n [4 5 6]\n [7 8 9]]\n2\n(3, 3)\n"
     ]
    }
   ],
   "source": [
    "#numpy（Numerical Python）提供了python对多维数组对象的支持:ndarray，具有矢量运算能力，快速、节省空间\n",
    "# ndarray：N维数组对象（矩阵），所有元素必须是相同类型。\n",
    "# ndim属性，表示维度个数；shape属性，表示各维度大小；dtype属性，表示数据类型\n",
    "import numpy as np\n",
    "import numpy.linalg as lg\n",
    "data = np.array([[1,2,3],[4,5,6],[7,8,9]])\n",
    "#打印数组\n",
    "print(data)\n",
    "#打印数组的维度\n",
    "print(data.ndim)\n",
    "#打印数组各个维度的长度。shape是一个元组\n",
    "print(data.shape)"
   ]
  },
  {
   "cell_type": "code",
   "execution_count": 3,
   "metadata": {},
   "outputs": [
    {
     "output_type": "stream",
     "name": "stdout",
     "text": [
      "[0. 0. 0. 0. 0. 0.]\n[[0. 0. 0.]\n [0. 0. 0.]]\n[[1. 1. 1.]\n [1. 1. 1.]]\n[0 1 2 3 4 5]\n[5 6 7 8 9]\n"
     ]
    }
   ],
   "source": [
    "#创建一维长度为6的，元素都是0一维数组\n",
    "print(np.zeros(6))\n",
    "#创建一维长度为2，二维长度为3的二维0数组\n",
    "print(np.zeros((2,3)))\n",
    "#创建一维长度为2，二维长度为3的二维1数组\n",
    "print(np.ones((2,3)))\n",
    "# 使用arrange生成连续元素\n",
    "print(np.arange(6))\n",
    "print(np.arange(5,10))"
   ]
  },
  {
   "cell_type": "code",
   "execution_count": 4,
   "metadata": {},
   "outputs": [
    {
     "output_type": "stream",
     "name": "stdout",
     "text": [
      "[[1 4]\n [2 5]\n [3 6]]\n[[1 4]\n [2 5]\n [3 6]]\n[[ 1  2]\n [-1 -3]]\n[[ 3.  2.]\n [-1. -1.]]\n[[1. 0. 0.]\n [0. 1. 0.]\n [0. 0. 1.]]\n"
     ]
    }
   ],
   "source": [
    "#矩阵的转置\n",
    "data = np.array([[1,2,3],[4,5,6]])\n",
    "print(data.transpose())\n",
    "print(data.T)\n",
    "#设A是数域上的一个n阶方阵，若在相同数域上存在另一个n阶矩阵B，使得： AB=BA=E。 则我们称B是A的逆矩阵，而A则被称为可逆矩阵。\n",
    "#求矩阵的逆需要先导入numpy.linalg，用linalg的inv函数来求逆。矩阵求逆的条件是矩阵应该是方阵。\n",
    "# numpy.linalg.LinAlgError: Singular matrix 不可逆矩阵\n",
    "data = np.matrix([[1,2],[-1,-3]])\n",
    "print(data)\n",
    "print(lg.inv(data))\n",
    "# 3阶单位矩阵\n",
    "data = np.eye(3) \n",
    "# 单位矩阵的逆为他本身\n",
    "print(lg.inv(data))"
   ]
  },
  {
   "cell_type": "code",
   "execution_count": 5,
   "metadata": {},
   "outputs": [
    {
     "output_type": "stream",
     "name": "stdout",
     "text": [
      "[48 52]\n[6. 4.]\n[6. 4.]\n"
     ]
    }
   ],
   "source": [
    "# 4x+6y=48\n",
    "# 2x+10y=52\n",
    "# A*M = B\n",
    "# 构造系数矩阵 A\n",
    "A = np.array([[4,6],[2,10]])\n",
    "B = np.array([48,52])\n",
    "print(B.T)\n",
    "print(np.linalg.solve(A,B.T))\n",
    "# 通过求逆矩阵求解\n",
    "A_inv=np.linalg.inv(A)\n",
    "print(np.dot(A_inv,B))"
   ]
  },
  {
   "cell_type": "code",
   "execution_count": null,
   "metadata": {},
   "outputs": [],
   "source": []
  }
 ],
 "metadata": {
  "kernelspec": {
   "name": "python3",
   "display_name": "Python 3.9.1 64-bit",
   "metadata": {
    "interpreter": {
     "hash": "ac2eaa0ea0ebeafcc7822e65e46aa9d4f966f30b695406963e145ea4a91cd4fc"
    }
   }
  },
  "language_info": {
   "codemirror_mode": {
    "name": "ipython",
    "version": 3
   },
   "file_extension": ".py",
   "mimetype": "text/x-python",
   "name": "python",
   "nbconvert_exporter": "python",
   "pygments_lexer": "ipython3",
   "version": "3.9.1"
  }
 },
 "nbformat": 4,
 "nbformat_minor": 4
}