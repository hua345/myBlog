{
 "metadata": {
  "language_info": {
   "codemirror_mode": {
    "name": "ipython",
    "version": 3
   },
   "file_extension": ".py",
   "mimetype": "text/x-python",
   "name": "python",
   "nbconvert_exporter": "python",
   "pygments_lexer": "ipython3",
   "version": "3.9.1"
  },
  "orig_nbformat": 2,
  "kernelspec": {
   "name": "python3",
   "display_name": "Python 3.9.1 64-bit",
   "metadata": {
    "interpreter": {
     "hash": "ac2eaa0ea0ebeafcc7822e65e46aa9d4f966f30b695406963e145ea4a91cd4fc"
    }
   }
  }
 },
 "nbformat": 4,
 "nbformat_minor": 2,
 "cells": [
  {
   "source": [
    "# pip3 install -i https://pypi.tuna.tsinghua.edu.cn/simple/ pandas\n",
    "## csv数据读取\n",
    "import pandas\n",
    "excelFile = \"book.xlsx\"\n",
    "df = pandas.read_excel(excelFile, 'Sheet1', index_col=None, na_values=['NA'])"
   ],
   "cell_type": "code",
   "metadata": {},
   "execution_count": 2,
   "outputs": []
  },
  {
   "cell_type": "code",
   "execution_count": 6,
   "metadata": {},
   "outputs": [
    {
     "output_type": "stream",
     "name": "stdout",
     "text": [
      "       book price\n0   哈佛幸福公开课    21\n1       断舍离    22\n2      刻意练习    23\n3  高性能mysql    24\n"
     ]
    }
   ],
   "source": [
    "df = df.append([{'book':\"高性能mysql\",'price':\"24\"}],ignore_index=True)\n",
    "print(df)\n"
   ]
  },
  {
   "cell_type": "code",
   "execution_count": 7,
   "metadata": {},
   "outputs": [],
   "source": [
    "resultExcelFile = \"resultData.xlsx\"\n",
    "df.to_excel(resultExcelFile,index=False, sheet_name='Sheet1')\n",
    "print(\"写入excel成功\")"
   ]
  },
  {
   "cell_type": "code",
   "execution_count": null,
   "metadata": {},
   "outputs": [],
   "source": []
  }
 ]
}