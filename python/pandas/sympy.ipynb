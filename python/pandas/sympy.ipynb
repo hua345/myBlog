{
 "cells": [
  {
   "cell_type": "code",
   "execution_count": 7,
   "metadata": {},
   "outputs": [],
   "source": [
    "#https://github.com/sympy/sympy\n",
    "from sympy import *\n",
    "# 方程中的符号\n",
    "x = sympy.Symbol('x')\n",
    "y,z = symbols('y z')\n",
    "# 乘号:*/指数:**/对数:log()/e的指数次幂:exp()\n"
   ]
  },
  {
   "cell_type": "code",
   "execution_count": 10,
   "metadata": {},
   "outputs": [
    {
     "name": "stdout",
     "output_type": "stream",
     "text": [
      "[2]\n",
      "{x: 2, y: 1}\n",
      "[1, -5/6 - sqrt(47)*I/6, -5/6 + sqrt(47)*I/6]\n"
     ]
    }
   ],
   "source": [
    "# x * 2 - 4 = 0\n",
    "print(solve(x * 2 - 4, x))\n",
    "# 2x-y=3\n",
    "# 3x+y=7\n",
    "print(solve([2 * x - y - 3, 3 * x + y - 7],[x, y]))\n",
    "print(solve(x + 2 * (x ** 2) + 3 * (x ** 3) - 6, x))"
   ]
  },
  {
   "cell_type": "code",
   "execution_count": null,
   "metadata": {},
   "outputs": [],
   "source": []
  }
 ],
 "metadata": {
  "kernelspec": {
   "display_name": "Python 3",
   "language": "python",
   "name": "python3"
  },
  "language_info": {
   "codemirror_mode": {
    "name": "ipython",
    "version": 3
   },
   "file_extension": ".py",
   "mimetype": "text/x-python",
   "name": "python",
   "nbconvert_exporter": "python",
   "pygments_lexer": "ipython3",
   "version": "3.7.6rc1"
  }
 },
 "nbformat": 4,
 "nbformat_minor": 4
}
