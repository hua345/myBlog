{
 "metadata": {
  "language_info": {
   "codemirror_mode": {
    "name": "ipython",
    "version": 3
   },
   "file_extension": ".py",
   "mimetype": "text/x-python",
   "name": "python",
   "nbconvert_exporter": "python",
   "pygments_lexer": "ipython3",
   "version": "3.9.1"
  },
  "orig_nbformat": 2,
  "kernelspec": {
   "name": "python3",
   "display_name": "Python 3.9.1 64-bit",
   "metadata": {
    "interpreter": {
     "hash": "ac2eaa0ea0ebeafcc7822e65e46aa9d4f966f30b695406963e145ea4a91cd4fc"
    }
   }
  }
 },
 "nbformat": 4,
 "nbformat_minor": 2,
 "cells": [
  {
   "cell_type": "code",
   "execution_count": 1,
   "metadata": {},
   "outputs": [
    {
     "output_type": "stream",
     "name": "stdout",
     "text": [
      "/usr/local/lib/python3.9/site-packages/matplotlib/mpl-data/matplotlibrc\n"
     ]
    }
   ],
   "source": [
    "import matplotlib\n",
    "# 查看字体路径\n",
    "print(matplotlib.matplotlib_fname())\n",
    "#仿宋:FangSong,新宋体:NSimSun,楷体:KaiTi,黑体:SimHei,微软雅黑:Microsoft YaHei\n",
    "# 下载SimHei字体到fonts/ttf目录\n",
    "# 编辑matplotlibrc文件\n",
    "# 将以下font.family和font.sans-serif前面的#去掉\n",
    "# 在font.sans-serif:后面新增SimHei\n",
    "# 同时将找到axes.unicode_minus，将True改为False，作用就是解决负号'-'显示为方块的问题\n",
    "#font.family:sans-serif\n",
    "#font.sans-serif: SimHei(新安装的字体)\n",
    "#axes.unicode_minus : False\n",
    "#  重启运行JupyterNotebook，即可看到中文"
   ]
  },
  {
   "cell_type": "code",
   "execution_count": null,
   "metadata": {},
   "outputs": [],
   "source": []
  }
 ]
}