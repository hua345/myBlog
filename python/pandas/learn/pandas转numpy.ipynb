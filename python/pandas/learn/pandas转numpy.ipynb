{
 "metadata": {
  "language_info": {
   "codemirror_mode": {
    "name": "ipython",
    "version": 3
   },
   "file_extension": ".py",
   "mimetype": "text/x-python",
   "name": "python",
   "nbconvert_exporter": "python",
   "pygments_lexer": "ipython3",
   "version": "3.9.1"
  },
  "orig_nbformat": 2,
  "kernelspec": {
   "name": "python3",
   "display_name": "Python 3.9.1 64-bit",
   "metadata": {
    "interpreter": {
     "hash": "ac2eaa0ea0ebeafcc7822e65e46aa9d4f966f30b695406963e145ea4a91cd4fc"
    }
   }
  }
 },
 "nbformat": 4,
 "nbformat_minor": 2,
 "cells": [
  {
   "cell_type": "code",
   "execution_count": 23,
   "metadata": {},
   "outputs": [],
   "source": [
    "import pandas as pd\n",
    "import numpy as np"
   ]
  },
  {
   "cell_type": "code",
   "execution_count": 24,
   "metadata": {},
   "outputs": [],
   "source": [
    "## json数据读取\n",
    "jsonFile = \"data.json\"\n",
    "df = pd.read_json(jsonFile)"
   ]
  },
  {
   "cell_type": "code",
   "execution_count": 25,
   "metadata": {},
   "outputs": [
    {
     "output_type": "stream",
     "name": "stdout",
     "text": [
      "[['哈佛幸福公开课', 21], ['断舍离', 22], ['刻意练习', 23], ['数学之美', 23], ['算法', 24], ['高性能mysql', 25]]\n"
     ]
    }
   ],
   "source": [
    "listData = np.array(df).tolist()\n",
    "print(listData)\n"
   ]
  },
  {
   "cell_type": "code",
   "execution_count": 26,
   "metadata": {},
   "outputs": [
    {
     "output_type": "stream",
     "name": "stdout",
     "text": [
      "[['哈佛幸福公开课', 21], ['断舍离', 22], ['刻意练习', 23], ['数学之美', 23], ['算法', 24], ['高性能mysql', 25]]\n"
     ]
    }
   ],
   "source": [
    "listData=df.values.tolist()\n",
    "print(listData)"
   ]
  },
  {
   "cell_type": "code",
   "execution_count": 27,
   "metadata": {},
   "outputs": [
    {
     "output_type": "stream",
     "name": "stdout",
     "text": [
      "['哈佛幸福公开课', 21]\n['断舍离', 22]\n['刻意练习', 23]\n['数学之美', 23]\n['算法', 24]\n['高性能mysql', 25]\n"
     ]
    }
   ],
   "source": [
    "for row in listData:\n",
    "    print(row)"
   ]
  },
  {
   "cell_type": "code",
   "execution_count": null,
   "metadata": {},
   "outputs": [],
   "source": []
  }
 ]
}