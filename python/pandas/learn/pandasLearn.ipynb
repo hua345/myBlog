{
 "metadata": {
  "language_info": {
   "codemirror_mode": {
    "name": "ipython",
    "version": 3
   },
   "file_extension": ".py",
   "mimetype": "text/x-python",
   "name": "python",
   "nbconvert_exporter": "python",
   "pygments_lexer": "ipython3",
   "version": "3.9.1"
  },
  "orig_nbformat": 2,
  "kernelspec": {
   "name": "python3",
   "display_name": "Python 3.9.1 64-bit",
   "metadata": {
    "interpreter": {
     "hash": "ac2eaa0ea0ebeafcc7822e65e46aa9d4f966f30b695406963e145ea4a91cd4fc"
    }
   }
  }
 },
 "nbformat": 4,
 "nbformat_minor": 2,
 "cells": [
  {
   "source": [
    "## 参考\n",
    "\n",
    "- [https://www.pypandas.cn/](https://www.pypandas.cn/)\n",
    "- https://www.pypandas.cn/docs/getting_started/basics.html"
   ],
   "cell_type": "markdown",
   "metadata": {}
  },
  {
   "cell_type": "code",
   "execution_count": 1,
   "metadata": {},
   "outputs": [
    {
     "output_type": "stream",
     "name": "stdout",
     "text": [
      "0    1\n1    2\n2    3\n3    4\n4    5\n5    6\n6    7\n7    8\n8    9\ndtype: int64\na    1\nb    2\nc    3\nd    4\ndtype: int64\n"
     ]
    }
   ],
   "source": [
    "import numpy as np\n",
    "import pandas as pd\n",
    "from pandas import Series,DataFrame\n",
    "# Series带标签的一维同构数组\n",
    "# Series的index是可变的，而dict字典的key值是不可变的。\n",
    "# DataFrame带标签的，大小可变的，二维异构表格\n",
    "arr1 = np.arange(1,10)\n",
    "print(Series(np.arange(1,10)))\n",
    "data = Series([1,2,3,4],index = ['a','b','c','d'])\n",
    "print(data)"
   ]
  },
  {
   "cell_type": "code",
   "execution_count": 2,
   "metadata": {},
   "outputs": [
    {
     "output_type": "stream",
     "name": "stdout",
     "text": [
      "      book price\n0  哈佛幸福公开课    21\n1      断舍离    22\n2     刻意练习    23\n       book price\ncount     3     3\nunique    3     3\ntop     断舍离    23\nfreq      1     1\n"
     ]
    }
   ],
   "source": [
    "data = {'book':['哈佛幸福公开课','断舍离','刻意练习'],'price':['21','22','23']}\n",
    "df = DataFrame(data, columns=['book','price'])\n",
    "print(df)\n",
    "print(df.describe())"
   ]
  },
  {
   "cell_type": "code",
   "execution_count": 3,
   "metadata": {},
   "outputs": [
    {
     "output_type": "stream",
     "name": "stdout",
     "text": [
      "0    哈佛幸福公开课\n1        断舍离\n2       刻意练习\nName: book, dtype: object\n      book price\n0  哈佛幸福公开课    21\nbook     哈佛幸福公开课\nprice         21\nName: 0, dtype: object\n"
     ]
    }
   ],
   "source": [
    "#获取数据\n",
    "# 选择单列，产生 Series\n",
    "print(df['book'])\n",
    "# 用 [ ] 切片行：\n",
    "print(df[0:1])\n",
    "# 用标签提取一行数据\n",
    "print(df.loc[0])"
   ]
  }
 ]
}