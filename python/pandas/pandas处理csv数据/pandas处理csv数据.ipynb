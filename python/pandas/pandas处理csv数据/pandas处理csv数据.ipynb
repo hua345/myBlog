{
 "metadata": {
  "language_info": {
   "codemirror_mode": {
    "name": "ipython",
    "version": 3
   },
   "file_extension": ".py",
   "mimetype": "text/x-python",
   "name": "python",
   "nbconvert_exporter": "python",
   "pygments_lexer": "ipython3",
   "version": "3.9.1"
  },
  "orig_nbformat": 2,
  "kernelspec": {
   "name": "python3",
   "display_name": "Python 3.9.1 64-bit",
   "metadata": {
    "interpreter": {
     "hash": "ac2eaa0ea0ebeafcc7822e65e46aa9d4f966f30b695406963e145ea4a91cd4fc"
    }
   }
  }
 },
 "nbformat": 4,
 "nbformat_minor": 2,
 "cells": [
  {
   "source": [
    "## csv数据读取\n",
    "import pandas\n",
    "csvFile = \"data.csv\"\n",
    "df = pandas.read_csv(csvFile)\n",
    "print(df)"
   ],
   "cell_type": "code",
   "metadata": {},
   "execution_count": 3,
   "outputs": [
    {
     "output_type": "stream",
     "name": "stdout",
     "text": [
      "   id bookName\n0   1     刻意学习\n1   2     爱的艺术\n2   3      断舍离\n3   4    非暴力沟通\n4   5       算法\n"
     ]
    }
   ]
  },
  {
   "cell_type": "code",
   "execution_count": 4,
   "metadata": {},
   "outputs": [
    {
     "output_type": "stream",
     "name": "stdout",
     "text": [
      "columns: {\"id\":{\"0\":1,\"1\":2,\"2\":3,\"3\":4,\"4\":5},\"bookName\":{\"0\":\"刻意学习\",\"1\":\"爱的艺术\",\"2\":\"断舍离\",\"3\":\"非暴力沟通\",\"4\":\"算法\"}}\n"
     ]
    }
   ],
   "source": [
    "# DataFrame转为json\n",
    "# 设置orient参数来转换成为我们想要的json格式,\"columns\"(默认)，\"split\"，\"records\"， \"index\"，\"values\"\n",
    "jsonData = df.to_json(orient=\"columns\",force_ascii=False)\n",
    "print(\"columns:\",jsonData)"
   ]
  }
 ]
}